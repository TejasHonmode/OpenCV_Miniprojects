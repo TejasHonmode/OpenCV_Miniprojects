{
 "cells": [
  {
   "cell_type": "code",
   "execution_count": 11,
   "metadata": {},
   "outputs": [],
   "source": [
    "from scipy.spatial import distance as dist\n",
    "from imutils.video import VideoStream\n",
    "from imutils import face_utils\n",
    "\n",
    "#We’ll also import the Thread  class so we can play our alarm in a separate \n",
    "#thread from the main thread to ensure our script doesn’t pause execution \n",
    "#while the alarm sounds.\n",
    "from threading import Thread\n",
    "\n",
    "import numpy as np\n",
    "\n",
    "#In order to actually play our WAV/MP3 alarm, we need the playsound library,\n",
    "#a pure Python, cross-platform implementation for playing simple sounds.\n",
    "import playsound\n",
    "\n",
    "import time\n",
    "import dlib\n",
    "import cv2\n",
    "from collections import OrderedDict"
   ]
  },
  {
   "cell_type": "code",
   "execution_count": 12,
   "metadata": {},
   "outputs": [],
   "source": [
    "path = '/home/tejas/Desktop/CV/Loud_Alarm_Clock_Buzzer-Muk1984-493547174.mp3'\n",
    "\n",
    "def sound_alarm(path):\n",
    "    # play an alarm sound\n",
    "    playsound.playsound(sound = path)"
   ]
  },
  {
   "cell_type": "code",
   "execution_count": 13,
   "metadata": {},
   "outputs": [],
   "source": [
    "def eye_aspect_ratio(eye):\n",
    "    # compute the dist between the two sets of\n",
    "    # vertical eye landmarks (x, y)-coordinates\n",
    "    A = dist.euclidean(eye[1],eye[5])\n",
    "    B = dist.euclidean(eye[2], eye[4])\n",
    " \n",
    "    # compute the euclidean dist between the horizontal\n",
    "    # eye landmark (x, y)-coordinates\n",
    "    C = dist.euclidean(eye[0], eye[3])\n",
    " \n",
    "    # compute the eye aspect ratio\n",
    "    ear = (A + B) / (2.0 * C)\n",
    " \n",
    "    return ear"
   ]
  },
  {
   "cell_type": "code",
   "execution_count": 14,
   "metadata": {},
   "outputs": [],
   "source": [
    "def shape_to_np(shape, dtype=\"int\"):\n",
    "    # initialize the list of (x, y)-coordinates\n",
    "    coords = np.zeros((68, 2), dtype=dtype)\n",
    " \n",
    "    # loop over the 68 facial landmarks and convert them\n",
    "    # to a 2-tuple of (x, y)-coordinates\n",
    "    for i in range(0, 68):\n",
    "        coords[i] = (shape.part(i).x, shape.part(i).y)\n",
    " \n",
    "    # return the list of (x, y)-coordinates\n",
    "    return coords"
   ]
  },
  {
   "cell_type": "code",
   "execution_count": 15,
   "metadata": {},
   "outputs": [],
   "source": [
    "# define two constants, one for the eye aspect ratio to indicate\n",
    "# blink and then a second constant for the number of consecutive\n",
    "# frames the eye must be below the threshold for to set off the\n",
    "# alarm\n",
    "EYE_AR_THRESH = 0.3\n",
    "EYE_AR_CONSEC_FRAMES = 48\n",
    "\n",
    "\n",
    "# initialize the frame counter and a boolean used to\n",
    "# indicate if the alarm is going off\n",
    "COUNTER = 0\n",
    "ALARM_ON = False"
   ]
  },
  {
   "cell_type": "code",
   "execution_count": 16,
   "metadata": {},
   "outputs": [],
   "source": [
    "facial_features = OrderedDict([\n",
    "    (\"mouth\", (48, 68)),\n",
    "    (\"right_eyebrow\", (17, 22)),\n",
    "    (\"left_eyebrow\", (22, 27)),\n",
    "    (\"right_eye\", (36, 42)),\n",
    "    (\"left_eye\", (42, 48)),\n",
    "    (\"nose\", (27, 35)),\n",
    "    (\"jaw\", (0, 17))\n",
    "])"
   ]
  },
  {
   "cell_type": "code",
   "execution_count": 17,
   "metadata": {},
   "outputs": [],
   "source": [
    "# initialize dlib's face detector (HOG-based) and then create\n",
    "# the facial landmark predictor\n",
    "detector = dlib.get_frontal_face_detector()\n",
    "predictor = dlib.shape_predictor('/home/tejas/Desktop/CV/shape_predictor_68_face_landmarks.dat')"
   ]
  },
  {
   "cell_type": "code",
   "execution_count": 18,
   "metadata": {},
   "outputs": [],
   "source": [
    "# grab the indexes of the facial landmarks for the left and\n",
    "# right eye\n",
    "(lstart, lend) = facial_features[\"left_eye\"]\n",
    "(rstart, rend) = facial_features[\"right_eye\"]"
   ]
  },
  {
   "cell_type": "code",
   "execution_count": 21,
   "metadata": {},
   "outputs": [
    {
     "name": "stderr",
     "output_type": "stream",
     "text": [
      "Exception in thread Thread-10:\n",
      "Traceback (most recent call last):\n",
      "  File \"/home/tejas/anaconda/lib/python2.7/threading.py\", line 801, in __bootstrap_inner\n",
      "    self.run()\n",
      "  File \"/home/tejas/anaconda/lib/python2.7/threading.py\", line 754, in run\n",
      "    self.__target(*self.__args, **self.__kwargs)\n",
      "  File \"<ipython-input-12-c7e54432bb95>\", line 5, in sound_alarm\n",
      "    playsound.playsound(sound = path)\n",
      "  File \"/home/tejas/tensorflow/lib/python2.7/site-packages/playsound.py\", line 91, in _playsoundNix\n",
      "    import gi\n",
      "ImportError: No module named gi\n",
      "\n",
      "Exception in thread Thread-11:\n",
      "Traceback (most recent call last):\n",
      "  File \"/home/tejas/anaconda/lib/python2.7/threading.py\", line 801, in __bootstrap_inner\n",
      "    self.run()\n",
      "  File \"/home/tejas/anaconda/lib/python2.7/threading.py\", line 754, in run\n",
      "    self.__target(*self.__args, **self.__kwargs)\n",
      "  File \"<ipython-input-12-c7e54432bb95>\", line 5, in sound_alarm\n",
      "    playsound.playsound(sound = path)\n",
      "  File \"/home/tejas/tensorflow/lib/python2.7/site-packages/playsound.py\", line 91, in _playsoundNix\n",
      "    import gi\n",
      "ImportError: No module named gi\n",
      "\n"
     ]
    }
   ],
   "source": [
    "cap = cv2.VideoCapture(0)\n",
    "\n",
    "while True:\n",
    "    ret, frame = cap.read()\n",
    "    gray = cv2.cvtColor(frame, cv2.COLOR_BGR2GRAY)\n",
    "    \n",
    "    #detect faces in the grayscale frame\n",
    "    #1 for images 0 for video feed\n",
    "    rects = detector(gray,0)\n",
    "    \n",
    "    #loop over the face detections\n",
    "    for rect in rects:\n",
    "        #determine the facial landmark for the face region, then convert the\n",
    "        #facial landmark (x,y) coordinates to numpy array\n",
    "        shape = predictor(gray,rect)\n",
    "        shape = shape_to_np(shape)\n",
    "        \n",
    "        # extract the left and right eye coords., then use the\n",
    "        # coords. to compute the EAR for both eyes\n",
    "        left_eye = shape[lstart:lend]\n",
    "        right_eye = shape[rstart:rend]\n",
    "        left_ear = eye_aspect_ratio(left_eye)\n",
    "        right_ear = eye_aspect_ratio(right_eye)\n",
    "        \n",
    "        #avg. the EAR together for both eyes\n",
    "        ear = (left_ear + right_ear)/2.0\n",
    "        \n",
    "        #compute the convex hull for the left and right eye, then visualise\n",
    "        # each of the eyes\n",
    "        left_eye_hull = cv2.convexHull(left_eye)\n",
    "        right_eye_hull = cv2.convexHull(right_eye)\n",
    "        cv2.drawContours(frame,[left_eye_hull],-1,(0,255,0),1)\n",
    "        cv2.drawContours(frame,[right_eye_hull],-1,(0,255,0),1)\n",
    "        \n",
    "        if ear < EYE_AR_THRESH:\n",
    "            COUNTER += 1\n",
    "            \n",
    "            if COUNTER >= EYE_AR_CONSEC_FRAMES:\n",
    "                if not ALARM_ON:\n",
    "                    #if alarm not on then turn it on\n",
    "                    ALARM_ON = True\n",
    "                    \n",
    "                    if path != \"\":\n",
    "                        t = Thread(target=sound_alarm,args=(path,))\n",
    "                        t.deamon = True\n",
    "                        t.start()\n",
    "                        \n",
    "                cv2.putText(frame,\"DROWSINESS ALERT!\",(10,30),\n",
    "                            cv2.FONT_HERSHEY_SIMPLEX,0.7,(0,0,255),2)\n",
    "                \n",
    "        \n",
    "        \n",
    "        #otherwise EAR not below threshold then reset alarm\n",
    "        else:\n",
    "            COUNTER = 0\n",
    "            ALARM_ON = False\n",
    "            \n",
    "        # draw the computed eye aspect ratio on the frame to help\n",
    "        # with debugging and setting the correct eye aspect ratio\n",
    "        # thresholds and frame counters\n",
    "        cv2.putText(frame, \"EAR: {:.2f}\".format(ear), (300, 30),\n",
    "                    cv2.FONT_HERSHEY_SIMPLEX, 0.7, (0, 0, 255), 2)\n",
    "        \n",
    "        \n",
    "    cv2.imshow('frame',frame)\n",
    "    if cv2.waitKey(1) & 0xFF == ord('q'):\n",
    "        break\n",
    "        \n",
    "cap.release()\n",
    "cv2.destroyAllWindows()\n",
    "TOTAL = 0\n",
    "COUNTER = 0"
   ]
  },
  {
   "cell_type": "code",
   "execution_count": null,
   "metadata": {},
   "outputs": [],
   "source": []
  }
 ],
 "metadata": {
  "kernelspec": {
   "display_name": "Python 3",
   "language": "python",
   "name": "python3"
  },
  "language_info": {
   "codemirror_mode": {
    "name": "ipython",
    "version": 2
   },
   "file_extension": ".py",
   "mimetype": "text/x-python",
   "name": "python",
   "nbconvert_exporter": "python",
   "pygments_lexer": "ipython2",
   "version": "2.7.15rc1"
  }
 },
 "nbformat": 4,
 "nbformat_minor": 2
}
