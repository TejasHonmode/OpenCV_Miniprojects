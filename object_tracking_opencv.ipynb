{
 "cells": [
  {
   "cell_type": "code",
   "execution_count": 1,
   "metadata": {},
   "outputs": [],
   "source": [
    "import cv2\n",
    "import numpy as np\n",
    "import matplotlib.pyplot as plt\n",
    "%matplotlib inline\n",
    "from collections import deque\n",
    "import time"
   ]
  },
  {
   "cell_type": "code",
   "execution_count": 2,
   "metadata": {},
   "outputs": [],
   "source": [
    "#Ball tracker"
   ]
  },
  {
   "cell_type": "code",
   "execution_count": null,
   "metadata": {},
   "outputs": [],
   "source": []
  },
  {
   "cell_type": "code",
   "execution_count": 8,
   "metadata": {},
   "outputs": [],
   "source": [
    "#defining lower and upper boundaries of the \"green\" in the ball in HSV \n",
    "#color space\n",
    "green_lower = (29,86,6)\n",
    "green_upper = (64,255,255)\n",
    "#list of tracked points\n",
    "pts = deque(maxlen = 50)\n",
    "\n",
    "cap = cv2.VideoCapture(0)\n",
    "\n",
    "time.sleep(2.0)\n",
    "\n",
    "while True:\n",
    "    ret, frame = cap.read()\n",
    "    #blur the frame\n",
    "    blurred = cv2.GaussianBlur(frame,(5,5),0)\n",
    "    #convert it to HSV color space\n",
    "    hsv = cv2.cvtColor(blurred,cv2.COLOR_BGR2HSV)\n",
    "    \n",
    "    # construct a mask for the color \"green\", then perform\n",
    "    # a series of dilations and erosions to remove any small\n",
    "    # blobs left in the mask\n",
    "    mask = cv2.inRange(hsv,green_lower,green_upper)\n",
    "    mask = cv2.erode(mask,None,iterations = 2)\n",
    "    mask = cv2.dilate(mask,None,iterations = 2)\n",
    "    #cv2.imshow('Frame', frame)\n",
    "    #cv2.imshow('Mask',mask)\n",
    "    \n",
    "    #find contours in the mask and init. (x,y) center of the ball\n",
    "    im2,cnts,heirarchy = cv2.findContours(mask,cv2.RETR_EXTERNAL,cv2.CHAIN_APPROX_SIMPLE)\n",
    "    #find largest contour in the mask\n",
    "    center = None\n",
    "    if len(cnts) > 0:\n",
    "        c = max(cnts,key=cv2.contourArea)\n",
    "        #Compute min. enclosing circle and centroid\n",
    "        ((x,y),radius) = cv2.minEnclosingCircle(c)\n",
    "        M = cv2.moments(c)\n",
    "        center = (int(M[\"m10\"]/M[\"m00\"]), int(M[\"m01\"]/M[\"m00\"]))\n",
    "    \n",
    "        # only proceed if the radius meets a minimum size\n",
    "        # draw the circle and centroid on the frame,\n",
    "        # then update the list of tracked points\n",
    "        if radius > 3:\n",
    "            cv2.circle(frame, (int(x),int(y)), int(radius),(0,255,255),2)\n",
    "            cv2.circle(frame, center, 5, (0, 0, 255), -1)\n",
    "        \n",
    "    #update the points queue\n",
    "    pts.appendleft(center)\n",
    "    \n",
    "    #loop over the set of tracked points\n",
    "    for i in range(1,len(pts)):\n",
    "        #if either of the tracked points are None, ignore them\n",
    "        if pts[i-1] is None or pts[i] is None:\n",
    "            continue\n",
    "            \n",
    "        # otherwise, compute the thickness of the line and\n",
    "        # draw the connecting lines\n",
    "        cv2.line(frame,pts[i-1],pts[i],(0,0,255),1)\n",
    "        \n",
    "    frame = cv2.resize(frame,(1000,900))\n",
    "    cv2.imshow('Frame',frame)\n",
    "        \n",
    "    #if the key = 1 and q\n",
    "    if cv2.waitKey(1) & 0xFF == ord('q'):\n",
    "        break\n",
    "        \n",
    "cv2.destroyAllWindows()\n",
    "cap.release()\n"
   ]
  },
  {
   "cell_type": "code",
   "execution_count": 10,
   "metadata": {},
   "outputs": [],
   "source": []
  },
  {
   "cell_type": "code",
   "execution_count": 12,
   "metadata": {},
   "outputs": [],
   "source": []
  },
  {
   "cell_type": "code",
   "execution_count": 15,
   "metadata": {},
   "outputs": [],
   "source": []
  },
  {
   "cell_type": "code",
   "execution_count": 16,
   "metadata": {},
   "outputs": [
    {
     "data": {
      "text/plain": [
       "3.9052248001098633"
      ]
     },
     "execution_count": 16,
     "metadata": {},
     "output_type": "execute_result"
    }
   ],
   "source": [
    "radius"
   ]
  },
  {
   "cell_type": "code",
   "execution_count": null,
   "metadata": {},
   "outputs": [],
   "source": []
  }
 ],
 "metadata": {
  "kernelspec": {
   "display_name": "Python 3",
   "language": "python",
   "name": "python3"
  },
  "language_info": {
   "codemirror_mode": {
    "name": "ipython",
    "version": 2
   },
   "file_extension": ".py",
   "mimetype": "text/x-python",
   "name": "python",
   "nbconvert_exporter": "python",
   "pygments_lexer": "ipython2",
   "version": "2.7.15rc1"
  }
 },
 "nbformat": 4,
 "nbformat_minor": 2
}
